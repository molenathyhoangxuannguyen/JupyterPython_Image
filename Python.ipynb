{
 "cells": [
  {
   "cell_type": "code",
   "execution_count": 5,
   "metadata": {
    "scrolled": true
   },
   "outputs": [],
   "source": [
    "import math \n",
    "from PIL import Image, ImageDraw, ImageColor \n",
    "from PIL import ImagePath  \n",
    "  \n",
    "side = 8\n",
    "xy = [ \n",
    "    ((math.cos(th) + 1) * 90, \n",
    "     (math.sin(th) + 1) * 60) \n",
    "    for th in [i * (2 * math.pi) / side for i in range(side)] \n",
    "    ]   \n",
    "img = Image.new(\"RGB\", (128,128), \"#f9f9f9\")  \n",
    "img1 = ImageDraw.Draw(img)   \n",
    "img1.polygon(xy, fill =\"#eeeeff\", outline =\"blue\")  \n",
    "img.show()\n",
    "img.save(\"a.png\")\n",
    "\n",
    "\n",
    "im = Image.open(\"a.png\")\n",
    "pix_val = list(im.getdata())\n",
    "\n",
    "#im.putpixel((90,150),ImageColor.getcolor(\"black\",\"1\"))\n",
    "#im = Image.new('1', (1,1)) # create the Image of size 1 pixel \n",
    "#im.putpixel((0,0), ImageColor.getcolor('black', '1')) # or whatever color you wish\n",
    "#im.show() \n",
    "#im.save(\"a.png\") # or any image format\n"
   ]
  },
  {
   "cell_type": "code",
   "execution_count": null,
   "metadata": {},
   "outputs": [],
   "source": []
  }
 ],
 "metadata": {
  "kernelspec": {
   "display_name": "Python 3",
   "language": "python",
   "name": "python3"
  },
  "language_info": {
   "codemirror_mode": {
    "name": "ipython",
    "version": 3
   },
   "file_extension": ".py",
   "mimetype": "text/x-python",
   "name": "python",
   "nbconvert_exporter": "python",
   "pygments_lexer": "ipython3",
   "version": "3.8.5"
  }
 },
 "nbformat": 4,
 "nbformat_minor": 4
}
