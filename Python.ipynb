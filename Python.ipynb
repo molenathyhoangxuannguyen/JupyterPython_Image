{
 "cells": [
  {
   "cell_type": "code",
   "execution_count": 37,
   "metadata": {
    "scrolled": true
   },
   "outputs": [],
   "source": [
    "import math \n",
    "from PIL import Image, ImageDraw, ImageColor \n",
    "from PIL import ImagePath  \n",
    "import random\n",
    "\n",
    "#Step 1: Draw a shape\n",
    "side = 4\n",
    "xy = [ \n",
    "    ((math.cos(th) + 1) * 90, \n",
    "     (math.sin(th) + 1) * 60) \n",
    "    for th in [i * (2 * math.pi) / side for i in range(side)] \n",
    "    ]   \n",
    "\n",
    "\n",
    "image = ImagePath.Path(xy).getbbox()   \n",
    "size = list(map(int, map(math.ceil, image[2:]))) \n",
    "\n",
    "\n",
    "img = Image.new(\"RGB\", size, \"#f9f9f9\")  \n",
    "\n",
    "img1 = ImageDraw.Draw(img)   \n",
    "\n",
    "img1.polygon(xy, fill =\"#eeeeff\", outline =\"blue\")  \n",
    "img.save(\"a.png\")\n",
    "\n",
    "#Step 2: Resize random\n",
    "\n",
    "\n",
    "im = Image.open(\"a.png\")\n",
    "new_img=im.resize((128,128))\n",
    "new_img.show()\n",
    "new_img.save(\"a.png\")\n",
    "\n",
    "\n",
    "#Step 3: \n",
    "\n",
    "button_img = Image.new('RGB', (128,128), \"white\")\n",
    "button_img.save(\"b.png\")\n",
    "\n",
    "#back_im = im.copy()\n",
    "#back_im.paste(im2, (100, 50))\n",
    "\n",
    "#pix_val = list(im.getdata())\n",
    "\n",
    "#print(pix_val)\n",
    "\n"
   ]
  },
  {
   "cell_type": "code",
   "execution_count": null,
   "metadata": {},
   "outputs": [],
   "source": []
  }
 ],
 "metadata": {
  "kernelspec": {
   "display_name": "Python 3",
   "language": "python",
   "name": "python3"
  },
  "language_info": {
   "codemirror_mode": {
    "name": "ipython",
    "version": 3
   },
   "file_extension": ".py",
   "mimetype": "text/x-python",
   "name": "python",
   "nbconvert_exporter": "python",
   "pygments_lexer": "ipython3",
   "version": "3.8.5"
  }
 },
 "nbformat": 4,
 "nbformat_minor": 4
}
